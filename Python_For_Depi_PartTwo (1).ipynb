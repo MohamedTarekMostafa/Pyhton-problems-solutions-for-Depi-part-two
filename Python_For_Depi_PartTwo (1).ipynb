{
  "nbformat": 4,
  "nbformat_minor": 0,
  "metadata": {
    "colab": {
      "provenance": []
    },
    "kernelspec": {
      "name": "python3",
      "display_name": "Python 3"
    },
    "language_info": {
      "name": "python"
    }
  },
  "cells": [
    {
      "cell_type": "markdown",
      "source": [
        "**Calculate average using Function**"
      ],
      "metadata": {
        "id": "cpe5aNWNyuH0"
      }
    },
    {
      "cell_type": "code",
      "source": [
        "def calculate_average(numbers):\n",
        "   return sum(numbers) / len(numbers)\n",
        "\n",
        "numbers = [10, 20, 30, 40, 50]\n",
        "print(\"Average:\", calculate_average(numbers))"
      ],
      "metadata": {
        "colab": {
          "base_uri": "https://localhost:8080/"
        },
        "id": "_K--Jv6U9Wyu",
        "outputId": "bec917b4-7131-4d60-e3ab-44c8d230ad93"
      },
      "execution_count": null,
      "outputs": [
        {
          "output_type": "stream",
          "name": "stdout",
          "text": [
            "Average: 30.0\n"
          ]
        }
      ]
    },
    {
      "cell_type": "markdown",
      "source": [
        "**Finding the Longest Word in a List using Function**"
      ],
      "metadata": {
        "id": "eQeRPgiN9yfc"
      }
    },
    {
      "cell_type": "code",
      "source": [
        "def find_longest_word(words):\n",
        "    long = \"\"\n",
        "    for word in words:\n",
        "        if len(word) > len(long):\n",
        "            long = word\n",
        "    return long\n",
        "\n",
        "words = [\"Mohamed\", \"Tarek\", \"Mostafa\", \"Tawfeeq\"]\n",
        "print(\"Longest word:\", find_longest_word(words))\n"
      ],
      "metadata": {
        "colab": {
          "base_uri": "https://localhost:8080/"
        },
        "id": "5EDs6tdVuzcs",
        "outputId": "3e0b23bf-e450-4eb4-d211-021a35bc3a89"
      },
      "execution_count": 12,
      "outputs": [
        {
          "output_type": "stream",
          "name": "stdout",
          "text": [
            "Longest word: Mohamed\n"
          ]
        }
      ]
    },
    {
      "cell_type": "markdown",
      "source": [],
      "metadata": {
        "id": "615paaM5Fvh3"
      }
    },
    {
      "cell_type": "markdown",
      "source": [
        "**Cheking Prime Number using Functions**"
      ],
      "metadata": {
        "id": "fTAg9_TSFwMW"
      }
    },
    {
      "cell_type": "code",
      "source": [
        "def is_prime(n):\n",
        "  if n<2:\n",
        "    return False\n",
        "  for i in range(2,int(n**0.5)+1):\n",
        "    if n%i==0:\n",
        "      return False\n",
        "  return True\n",
        "print(\"Is 1 prime?\\n\", is_prime(1))\n"
      ],
      "metadata": {
        "colab": {
          "base_uri": "https://localhost:8080/"
        },
        "id": "IsB8-GAbFzyj",
        "outputId": "9c9843c9-ebf0-4a27-9245-06d45e1a2d2b"
      },
      "execution_count": 14,
      "outputs": [
        {
          "output_type": "stream",
          "name": "stdout",
          "text": [
            "Is 1 prime?\n",
            " False\n"
          ]
        }
      ]
    },
    {
      "cell_type": "markdown",
      "source": [
        "**Converting Temprture unit using Function**"
      ],
      "metadata": {
        "id": "Ib1NckHFIS7u"
      }
    },
    {
      "cell_type": "code",
      "source": [
        "def convert_celesuis_to_farhnhiet(celesuis):\n",
        "  return (celesuis*9/5)+32\n",
        "def convert_farhnhiet_to_celesuis(farhnhiet):\n",
        "  return (farhnhiet-32) * 5/9\n",
        "print(f\"25 celesuis , is {convert_celesuis_to_farhnhiet(25)} farhnhiet\")\n",
        "print(f\"77 farhnhiet is {convert_farhnhiet_to_celesuis(77)} celesuis\")\n"
      ],
      "metadata": {
        "colab": {
          "base_uri": "https://localhost:8080/"
        },
        "id": "H34YttojIclj",
        "outputId": "dde45d06-ce10-4b34-8bbf-2e3925df4b86"
      },
      "execution_count": 18,
      "outputs": [
        {
          "output_type": "stream",
          "name": "stdout",
          "text": [
            "25 celesuis , is 77.0 farhnhiet\n",
            "77 farhnhiet is 25.0 celesuis\n"
          ]
        }
      ]
    },
    {
      "cell_type": "markdown",
      "source": [
        "**Generating a List of Squares Using List Comprehension and Functions**"
      ],
      "metadata": {
        "id": "OtQ-b9SVLRlk"
      }
    },
    {
      "cell_type": "code",
      "source": [
        "def list_square(numbers):\n",
        "  return [x**2 for x in numbers]\n",
        "\n",
        "\n",
        "\n",
        "numbers=[1,2,3,4,5,6,7,8,9,10]\n",
        "print(list_square(numbers))\n",
        "\n"
      ],
      "metadata": {
        "colab": {
          "base_uri": "https://localhost:8080/"
        },
        "id": "SKYGuxY6MOg6",
        "outputId": "7e4af851-268b-407a-d77a-ddeace491f0f"
      },
      "execution_count": 30,
      "outputs": [
        {
          "output_type": "stream",
          "name": "stdout",
          "text": [
            "[1, 4, 9, 16, 25, 36, 49, 64, 81, 100]\n"
          ]
        }
      ]
    },
    {
      "cell_type": "code",
      "source": [
        "#using map Function and lambda Function\n",
        "numbers=[1,2,3,4,5,6,7,8,9,10]\n",
        "square=list(map(lambda x :x**2,numbers))\n",
        "print(f\"list of squares is {square}\")"
      ],
      "metadata": {
        "colab": {
          "base_uri": "https://localhost:8080/"
        },
        "id": "i1LzePFwMlJr",
        "outputId": "473ffc07-a034-43db-aa61-00402933fe7a"
      },
      "execution_count": 27,
      "outputs": [
        {
          "output_type": "stream",
          "name": "stdout",
          "text": [
            "list of squares is [1, 4, 9, 16, 25, 36, 49, 64, 81, 100]\n"
          ]
        }
      ]
    },
    {
      "cell_type": "markdown",
      "source": [
        "**convert a list of string to upper case**"
      ],
      "metadata": {
        "id": "QYb8ElsIUuYN"
      }
    },
    {
      "cell_type": "code",
      "source": [
        "def convert_to_upper(words):\n",
        "  return [word.upper() for word in words]\n",
        "words=['mohamed','islam','eng sarah','miar']\n",
        "print(f\" upper cases of this list is {convert_to_upper(words)}\")\n"
      ],
      "metadata": {
        "colab": {
          "base_uri": "https://localhost:8080/"
        },
        "id": "LDKOEmvqU0p-",
        "outputId": "174b40cf-bb1c-4f31-c476-12e8f8cf1485"
      },
      "execution_count": 34,
      "outputs": [
        {
          "output_type": "stream",
          "name": "stdout",
          "text": [
            " upper cases of this list is ['MOHAMED', 'ISLAM', 'ENG SARAH', 'MIAR']\n"
          ]
        }
      ]
    },
    {
      "cell_type": "markdown",
      "source": [
        "**Calculating Total Price including Tax using function**"
      ],
      "metadata": {
        "id": "znhqHRIlXBA9"
      }
    },
    {
      "cell_type": "code",
      "source": [
        "def calculate_total_price(prices,tax_rate):\n",
        "  total=sum(prices)\n",
        "  total_with_tax=total*(1+tax_rate)\n",
        "  return total_with_tax\n",
        "prices=[200,500,800]\n",
        "tax_rate=0.1\n",
        "print(f\"sum of prices with tax rate is {calculate_total_price(prices,tax_rate)}\")\n"
      ],
      "metadata": {
        "colab": {
          "base_uri": "https://localhost:8080/"
        },
        "id": "y3gI-6wwXIsS",
        "outputId": "ceb64cca-5fb0-49a6-c0a0-ef4cd566bb57"
      },
      "execution_count": 39,
      "outputs": [
        {
          "output_type": "stream",
          "name": "stdout",
          "text": [
            "sum of prices with tax rate is 1650.0000000000002\n"
          ]
        }
      ]
    },
    {
      "cell_type": "markdown",
      "source": [
        "**finding minimum and maximum value in a list using Function**"
      ],
      "metadata": {
        "id": "sND12uG-c6KU"
      }
    },
    {
      "cell_type": "code",
      "source": [
        "def finding_max_And_min_value(numbers):\n",
        "  max_number=max(numbers)\n",
        "  min_number=min(numbers)\n",
        "  return max_number,min_number\n",
        "\n",
        "numbers=[20,30,40,50,100,1000,10,5,3]\n",
        "print(f\"maximum,minimum value in this list is {finding_max_And_min_value(numbers)}\")\n",
        "\n"
      ],
      "metadata": {
        "colab": {
          "base_uri": "https://localhost:8080/"
        },
        "id": "Y50NYed8dBzZ",
        "outputId": "a5ddf343-03a3-4a08-b2e9-d855d3b7989b"
      },
      "execution_count": 43,
      "outputs": [
        {
          "output_type": "stream",
          "name": "stdout",
          "text": [
            "maximum,minimum value in this list is (1000, 3)\n"
          ]
        }
      ]
    },
    {
      "cell_type": "markdown",
      "source": [
        "**Checking if a String is a Valid Email Address**"
      ],
      "metadata": {
        "id": "kkIJuz0MfL91"
      }
    },
    {
      "cell_type": "code",
      "source": [
        "def is_valid_email(email):\n",
        "    return \"@\" in email and \".\" in email.split(\"@\")[-1]\n",
        "\n",
        "email = \"example@example.com\"\n",
        "print(\"Is valid email:\", is_valid_email(email))\n"
      ],
      "metadata": {
        "colab": {
          "base_uri": "https://localhost:8080/"
        },
        "id": "pLOlzTiUfXIu",
        "outputId": "7c6a0c12-be13-4eb7-df31-97a58d1763a1"
      },
      "execution_count": 44,
      "outputs": [
        {
          "output_type": "stream",
          "name": "stdout",
          "text": [
            "Is valid email: True\n"
          ]
        }
      ]
    },
    {
      "cell_type": "markdown",
      "source": [
        "**Counting the Frequency of Each Character in a String**"
      ],
      "metadata": {
        "id": "JkVsiYh1gUwb"
      }
    },
    {
      "cell_type": "code",
      "source": [
        "def count_character_frequency(text):\n",
        "    frequency = {}\n",
        "    for char in text:\n",
        "        if char in frequency:\n",
        "            frequency[char] += 1\n",
        "        else:\n",
        "            frequency[char] = 1\n",
        "    return frequency\n",
        "\n",
        "text = \"hello world\"\n",
        "print(\"Character frequency:\", count_character_frequency(text))\n"
      ],
      "metadata": {
        "colab": {
          "base_uri": "https://localhost:8080/"
        },
        "id": "vaxNa9YhgYPI",
        "outputId": "3f7a4afa-5c72-485b-efb2-43b7272c9d35"
      },
      "execution_count": 45,
      "outputs": [
        {
          "output_type": "stream",
          "name": "stdout",
          "text": [
            "Character frequency: {'h': 1, 'e': 1, 'l': 3, 'o': 2, ' ': 1, 'w': 1, 'r': 1, 'd': 1}\n"
          ]
        }
      ]
    },
    {
      "cell_type": "code",
      "source": [],
      "metadata": {
        "id": "XN5OawipgaOT"
      },
      "execution_count": null,
      "outputs": []
    }
  ]
}